{
 "cells": [
  {
   "cell_type": "code",
   "execution_count": null,
   "id": "5a14ea7e",
   "metadata": {},
   "outputs": [],
   "source": [
    "This script is used to dowload large numbers of files from links on a webpage"
   ]
  },
  {
   "cell_type": "code",
   "execution_count": 50,
   "id": "5b23c6d8",
   "metadata": {},
   "outputs": [],
   "source": [
    "from urllib.request import urlopen, urlretrieve\n",
    "from bs4 import BeautifulSoup\n",
    "\n",
    "# specify the url\n",
    "url = \"https://www.sdwas.org/Standard-Drawings/Standard-Drawings-Sewer\"\n",
    "\n",
    "# query the website and return the html to the variable 'page'\n",
    "page = urlopen(url)\n",
    "\n",
    "# parse the html using beautiful soup and store in variable 'soup'\n",
    "soup = BeautifulSoup(page, \"html.parser\")\n",
    "\n",
    "# find all 'a' tags that contain the pdf file extension\n",
    "pdfs = soup.find_all(\"a\", href=lambda x: x and \".pdf\" in x)\n",
    "\n",
    "# iterate over the list of pdfs and download each one\n",
    "for pdf in pdfs:\n",
    "    # get the pdf url\n",
    "    pdf_url = pdf[\"href\"]\n",
    "    pdf_url2 = pdf_url.split(\"?\",1)[0]\n",
    "\n",
    "    # download the pdf\n",
    "    urlretrieve(\"https://www.sdwas.org/\" + pdf_url2, pdf_url2.split(\"/\")[-1])"
   ]
  }
 ],
 "metadata": {
  "kernelspec": {
   "display_name": "Python 3 (ipykernel)",
   "language": "python",
   "name": "python3"
  },
  "language_info": {
   "codemirror_mode": {
    "name": "ipython",
    "version": 3
   },
   "file_extension": ".py",
   "mimetype": "text/x-python",
   "name": "python",
   "nbconvert_exporter": "python",
   "pygments_lexer": "ipython3",
   "version": "3.9.13"
  }
 },
 "nbformat": 4,
 "nbformat_minor": 5
}
